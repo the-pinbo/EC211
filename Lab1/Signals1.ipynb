{
 "cells": [
  {
   "cell_type": "markdown",
   "metadata": {},
   "source": [
    "## Signals and basic operations\n",
    "\n",
    "Plot the Following signals from n = −20 to n = 20. Use the command\n",
    "stem to plot the signals. Clearly mark the time origin in each case."
   ]
  },
  {
   "cell_type": "markdown",
   "metadata": {},
   "source": [
    "### ${\\left(\\frac{9}{10}\\right)^n}u[n]$"
   ]
  },
  {
   "cell_type": "code",
   "execution_count": 2,
   "metadata": {},
   "outputs": [
    {
     "data": {
      "image/png": "[encoded data removed]",
      "text/plain": [
       "<Figure size 432x288 with 1 Axes>"
      ]
     },
     "metadata": {
      "needs_background": "light"
     },
     "output_type": "display_data"
    }
   ],
   "source": [
    "import numpy as np \n",
    "import matplotlib.pyplot as plot\n",
    "\n",
    "n = range(-20,20);  # Range of n \n",
    "x_n = np.power((9/10), n)\n",
    "plot.stem(n,x_n)\n",
    "plot.show()"
   ]
  },
  {
   "cell_type": "markdown",
   "metadata": {},
   "source": [
    "### $3 \\cos \\left[ \\frac{\\pi n}{4} + \\frac{\\pi}{3} \\right]$"
   ]
  },
  {
   "cell_type": "code",
   "execution_count": null,
   "metadata": {},
   "outputs": [],
   "source": [
    "#write code here\n",
    "import numpy as np \n",
    "import matplotlib.pyplot as plot\n",
    "\n"
   ]
  },
  {
   "cell_type": "markdown",
   "metadata": {},
   "source": [
    "### $(-0.75)^n u[n]$\n"
   ]
  },
  {
   "cell_type": "code",
   "execution_count": null,
   "metadata": {},
   "outputs": [],
   "source": [
    "#write code here\n",
    "import numpy as np \n",
    "import matplotlib.pyplot as plot\n",
    "n = range(-20,20);  # Range of n \n",
    "\n",
    "            "
   ]
  },
  {
   "cell_type": "markdown",
   "metadata": {},
   "source": [
    "### $\\frac{\\sin (\\pi n/6 ) }{\\pi n/6}$\n",
    "\n",
    "Please make sure that the value at n=0 is not undefined. Consider the limit value"
   ]
  },
  {
   "cell_type": "code",
   "execution_count": null,
   "metadata": {},
   "outputs": [],
   "source": [
    "import numpy as np\n",
    "import matplotlib.pyplot as plot\n",
    "n=np.arange(-20,21)\n"
   ]
  },
  {
   "cell_type": "markdown",
   "metadata": {},
   "source": [
    "### $e^{-0.1 n} \\cos\\left( \\frac{\\pi n}{8} \\right)$"
   ]
  },
  {
   "cell_type": "code",
   "execution_count": null,
   "metadata": {},
   "outputs": [],
   "source": [
    "#write code here"
   ]
  },
  {
   "cell_type": "markdown",
   "metadata": {},
   "source": [
    "### ${\\sin (\\pi n^2 / 200 ) }$"
   ]
  },
  {
   "cell_type": "code",
   "execution_count": 3,
   "metadata": {},
   "outputs": [],
   "source": [
    "#write code here\n",
    "n = range(-20,20);  # Range of n \n",
    "n=np.array(n)\n",
    "p=np.power(n,2)\n"
   ]
  },
  {
   "cell_type": "markdown",
   "metadata": {},
   "source": [
    "Let  $x[n] = [2, 4,-3,1, -5, 4, 7]; -3\\leq n \\leq 3$.  Generate and plot the samples of the following sequences using the stem function.  (You might find fliplr function from numpy useful for computing time reversal)\n",
    "\n",
    "$x_1[n] = 2x[n-3] + 3 x[n+4] - x[n]$<br>\n",
    "$x_2[n] = x[-n-4] $<br>\n",
    "\n"
   ]
  },
  {
   "cell_type": "code",
   "execution_count": null,
   "metadata": {},
   "outputs": [],
   "source": [
    "import numpy as np\n",
    "import matplotlib.pyplot as plot\n",
    "x=[2,4,-3,1,-5,4,7]\n",
    "#for x1\n"
   ]
  },
  {
   "cell_type": "markdown",
   "metadata": {},
   "source": []
  }
 ],
 "metadata": {
  "kernelspec": {
   "display_name": "SPML Course Environment",
   "language": "python",
   "name": "spml"
  },
  "language_info": {
   "codemirror_mode": {
    "name": "ipython",
    "version": 3
   },
   "file_extension": ".py",
   "mimetype": "text/x-python",
   "name": "python",
   "nbconvert_exporter": "python",
   "pygments_lexer": "ipython3",
   "version": "3.8.11"
  }
 },
 "nbformat": 4,
 "nbformat_minor": 2
}
