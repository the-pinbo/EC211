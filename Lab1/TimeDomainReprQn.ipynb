{
 "cells": [
  {
   "cell_type": "markdown",
   "metadata": {},
   "source": [
    "## Time domain processing of LTI systems\n",
    "\n",
    "For the LTI systems described by the following difference equations, generate its impulse response, and unit step response. Comment on the properties of the system (Stable, Causal)\n",
    "\n",
    " <ol>\n",
    "  <li>$ y[n] =    y[n-1] + x[n]  $  </li>\n",
    "  <li>$ y[n] =    x[n]   - x[n-1]$  </li>\n",
    "  <li>$ y[n] = 0.9y[n−1] + x[n]  $  </li>\n",
    "  <li>$ y[n] = \\frac{1}{4} \\sum_{k=0}^3 x[n-k] $ </li>\n",
    "</ol>\n",
    "\n",
    "Also plot the input and output of these systems if you pass the following inputs\n",
    "\n",
    " <ol>\n",
    "  <li>$ \\sin\\left[ 0.05\\pi n  \\right] (u[n] - u[n-100])$ </li>\n",
    "  <li>$ (-1)^n (u[n] - u[n-100]) $ </li>\n",
    "  <li>$ [(n\\%10) -5](u[n] - u[n-100]) $ \"%\" denotes the reminder of division </li>\n",
    "  <li>$ (0.9)^n(u[n] - u[n-100]) $ </li>\n",
    "</ol>\n",
    "\n",
    "(use function <i>scipy.signal.impulse</i> to determine the impulse response and <i>scipy.signal.lfilter</i> to find the\n",
    "output)\n",
    "\n",
    "Details about <i>scipy.signal.impulse</i> can be found here, https://docs.scipy.org/doc/scipy-0.19.0/reference/generated/scipy.signal.impulse.html#scipy.signal.impulse\n",
    "\n",
    "Details about <i>scipy.signal.lfilter</i> can be found here, https://docs.scipy.org/doc/scipy-0.19.0/reference/generated/scipy.signal.lfilter.html#scipy.signal.lfilter"
   ]
  },
  {
   "cell_type": "code",
   "execution_count": 1,
   "metadata": {
    "scrolled": false
   },
   "outputs": [],
   "source": [
    "import numpy as np\n",
    "import matplotlib.pyplot as plt\n",
    "import scipy.signal as sig"
   ]
  },
  {
   "cell_type": "markdown",
   "metadata": {},
   "source": [
    "Plot the response of the following filters if the input is \n",
    "<ul>\n",
    "  <li>$x[n] = 0.1n + sin(0.1nπ);    0 ≤ n ≤ 60 $  </li>\n",
    "</ul> \n",
    "\n",
    "<ol>\n",
    "    <li> $y[n] = \\frac{1}{4} \\sum_{k=0}^3  x[n − k]$ </li>\n",
    "    <li>$y[n] = \\frac{2}{N(N+1)} \\sum_{k=0}^{N−1}(N − k)x[n − k]; N = 4$ </li>\n",
    "    <li>$y[n] − \\alpha y[n − 1] = (1 − \\alpha)x[n]; \\alpha = 3/4 $ </li>\n",
    "</ol>\n",
    "    \n"
   ]
  },
  {
   "cell_type": "code",
   "execution_count": null,
   "metadata": {},
   "outputs": [],
   "source": []
  },
  {
   "cell_type": "markdown",
   "metadata": {},
   "source": [
    "Consider a round theatre where an orchestra is in the middle of two concentric circles and the walls on one half side are at a radial distances of $17.15m$ (inner circle) and $34.3m$ (outer circle) on the other side from the\n",
    "orchestra. The speed of sound is $343 m/s$. Assume that the recorded signal is the sum of the original signal and the attenuated echoes from the two walls and is given by $r[n] = y[n] + 0.8y[n − N1] + 0.6y[n − N2]$ where,\n",
    "$N1$ is the delay caused by the closest wall and N2 is the delay caused by the farther wall. The recorder is in the centre of the theatre. Take any audio signal available and generate $r[n]$ and listen to both the original and\n",
    "the echoed signal."
   ]
  },
  {
   "cell_type": "code",
   "execution_count": null,
   "metadata": {},
   "outputs": [],
   "source": []
  }
 ],
 "metadata": {
  "kernelspec": {
   "display_name": "Python 3 (ipykernel)",
   "language": "python",
   "name": "python3"
  },
  "language_info": {
   "codemirror_mode": {
    "name": "ipython",
    "version": 3
   },
   "file_extension": ".py",
   "mimetype": "text/x-python",
   "name": "python",
   "nbconvert_exporter": "python",
   "pygments_lexer": "ipython3",
   "version": "3.9.7"
  },
  "toc": {
   "base_numbering": 1,
   "nav_menu": {},
   "number_sections": true,
   "sideBar": true,
   "skip_h1_title": false,
   "title_cell": "Table of Contents",
   "title_sidebar": "Contents",
   "toc_cell": false,
   "toc_position": {},
   "toc_section_display": true,
   "toc_window_display": false
  },
  "varInspector": {
   "cols": {
    "lenName": 16,
    "lenType": 16,
    "lenVar": 40
   },
   "kernels_config": {
    "python": {
     "delete_cmd_postfix": "",
     "delete_cmd_prefix": "del ",
     "library": "var_list.py",
     "varRefreshCmd": "print(var_dic_list())"
    },
    "r": {
     "delete_cmd_postfix": ") ",
     "delete_cmd_prefix": "rm(",
     "library": "var_list.r",
     "varRefreshCmd": "cat(var_dic_list()) "
    }
   },
   "types_to_exclude": [
    "module",
    "function",
    "builtin_function_or_method",
    "instance",
    "_Feature"
   ],
   "window_display": false
  }
 },
 "nbformat": 4,
 "nbformat_minor": 2
}
