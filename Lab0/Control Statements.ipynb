{
 "cells": [
  {
   "cell_type": "markdown",
   "metadata": {},
   "source": [
    "# Decision Making and Loops"
   ]
  },
  {
   "cell_type": "markdown",
   "metadata": {},
   "source": [
    " <ul>\n",
    "  <li>Branch Statements</li>\n",
    "  <ul>\n",
    "    <li>Conditional execution :  if </li>\n",
    "    <li>Two way decision : if-else </li>\n",
    "    <li>Multi way decision : if-elif-if </li>\n",
    "  </ul> \n",
    "  <li>Loop statements</li>\n",
    "  <ul>\n",
    "    <li>Range based :  for </li>\n",
    "    <li>Decision based  : while </li>\n",
    "  </ul> \n",
    "</ul> "
   ]
  },
  {
   "cell_type": "markdown",
   "metadata": {},
   "source": [
    "## Conditional Execution"
   ]
  },
  {
   "cell_type": "code",
   "execution_count": 2,
   "metadata": {},
   "outputs": [
    {
     "name": "stdout",
     "output_type": "stream",
     "text": [
      "What is the temperature ? 80\n",
      " Too hot !!\n",
      "Temp = 80\n",
      "bye!\n"
     ]
    }
   ],
   "source": [
    "temp = int(input(\"What is the temperature ? \"));\n",
    "if(temp > 35):\n",
    "    print(\" Too hot !!\")\n",
    "    print(\"Temp =\",temp)\n",
    "print(\"bye!\")"
   ]
  },
  {
   "cell_type": "markdown",
   "metadata": {},
   "source": [
    "### Two way decisions "
   ]
  },
  {
   "cell_type": "code",
   "execution_count": 5,
   "metadata": {},
   "outputs": [],
   "source": [
    "import numpy as np \n"
   ]
  },
  {
   "cell_type": "code",
   "execution_count": 6,
   "metadata": {},
   "outputs": [],
   "source": [
    "def quad_solv(a,b,c):\n",
    "#  This function determines the roots of a \n",
    "#  quadratic equation if they are real. \n",
    "\n",
    "    discrim = b*b - 4*a*c; \n",
    "    if(discrim >= 0):\n",
    "        sqrtdiscr = np.sqrt(discrim);\n",
    "        root1 = (-b + sqrtdiscr)/(2*a);\n",
    "        root2 = (-b - sqrtdiscr)/(2*a);\n",
    "        print (\"Roots = \", root1, \",\",root2);\n",
    "    else:\n",
    "        print (\"No real roots\" )\n",
    "    return;"
   ]
  },
  {
   "cell_type": "code",
   "execution_count": 8,
   "metadata": {},
   "outputs": [
    {
     "name": "stdout",
     "output_type": "stream",
     "text": [
      "Input the coefficients (a,b,c): 4 1 5 \n",
      "No real roots\n"
     ]
    }
   ],
   "source": [
    "(a,b,c) = [int(x) for x in input(\"Input the coefficients (a,b,c): \").split()]\n",
    "quad_solv(a,b,c)"
   ]
  },
  {
   "cell_type": "markdown",
   "metadata": {},
   "source": [
    "\n",
    "### Multi way decisions"
   ]
  },
  {
   "cell_type": "code",
   "execution_count": 10,
   "metadata": {},
   "outputs": [],
   "source": [
    "def max3(x1,x2,x3):\n",
    "# This function determines \n",
    "# the maximum of three numbers\n",
    "    if(x1 > x2  and x1 > x3 ):\n",
    "        mx = x1; \n",
    "    elif ( x2 >= x1 and x2 >= x3 ):\n",
    "        mx = x2; \n",
    "    else:\n",
    "        mx = x3;\n",
    "    return mx"
   ]
  },
  {
   "cell_type": "code",
   "execution_count": 11,
   "metadata": {},
   "outputs": [
    {
     "name": "stdout",
     "output_type": "stream",
     "text": [
      "30\n",
      "-10\n"
     ]
    }
   ],
   "source": [
    "print(max3(10,20,30))\n",
    "\n",
    "print(max3(-10, -20, -30))"
   ]
  },
  {
   "cell_type": "markdown",
   "metadata": {},
   "source": [
    "## For Loops\n",
    "Most common loop is the \"for\" loop\n",
    "\n",
    "the indexing is using range function\n",
    "\n",
    "### Example"
   ]
  },
  {
   "cell_type": "code",
   "execution_count": 15,
   "metadata": {},
   "outputs": [
    {
     "name": "stdout",
     "output_type": "stream",
     "text": [
      "1\n",
      "3\n"
     ]
    }
   ],
   "source": [
    "for i in range(1,5,2):# for (i = 1;  i<5 ; i+=2)  \n",
    "    print(i);"
   ]
  },
  {
   "cell_type": "markdown",
   "metadata": {},
   "source": [
    "Note that the \"i\" ranges from 0 to 4\n",
    "The last value is never included \n",
    "\n",
    "Starting and ending values can be given with the syntax <br> <b> range(start, end, increment) </b>"
   ]
  },
  {
   "cell_type": "code",
   "execution_count": 16,
   "metadata": {},
   "outputs": [
    {
     "name": "stdout",
     "output_type": "stream",
     "text": [
      "3\n",
      "5\n",
      "7\n",
      "9\n"
     ]
    }
   ],
   "source": [
    "for i in range(3,11,2):\n",
    "    print (i);"
   ]
  },
  {
   "cell_type": "markdown",
   "metadata": {},
   "source": [
    "Float values can be given with arange from numpy"
   ]
  },
  {
   "cell_type": "code",
   "execution_count": 1,
   "metadata": {},
   "outputs": [
    {
     "name": "stdout",
     "output_type": "stream",
     "text": [
      "1.5\n",
      "2.0\n",
      "2.5\n",
      "3.0\n",
      "3.5\n",
      "4.0\n",
      "4.5\n"
     ]
    }
   ],
   "source": [
    "import numpy as np \n",
    "for i in np.arange(1.5,5,0.5):\n",
    "    print(i)"
   ]
  },
  {
   "cell_type": "markdown",
   "metadata": {},
   "source": [
    "## While Loop\n",
    "This constructs repeatedly checks a condition and executes till it is true\n"
   ]
  },
  {
   "cell_type": "code",
   "execution_count": 17,
   "metadata": {
    "scrolled": true
   },
   "outputs": [
    {
     "name": "stdout",
     "output_type": "stream",
     "text": [
      "The count is: 0\n",
      "The count is: 1\n",
      "The count is: 2\n",
      "The count is: 3\n",
      "The count is: 4\n",
      "The count is: 5\n",
      "The count is: 6\n",
      "The count is: 7\n",
      "The count is: 8\n",
      "Good bye!\n"
     ]
    }
   ],
   "source": [
    "count = 0\n",
    "while (count < 9):\n",
    "   print ('The count is:', count)\n",
    "   count = count + 1\n",
    "\n",
    "print (\"Good bye!\")"
   ]
  },
  {
   "cell_type": "markdown",
   "metadata": {},
   "source": [
    "An optional else statement can be added to the while : "
   ]
  },
  {
   "cell_type": "code",
   "execution_count": 3,
   "metadata": {},
   "outputs": [
    {
     "name": "stdout",
     "output_type": "stream",
     "text": [
      "The count is: 0\n",
      "The count is: 1\n",
      "The count is: 2\n",
      "The count is: 3\n",
      "The count is: 4\n",
      "The count is: 5\n",
      "The count is: 6\n",
      "The count is: 7\n",
      "The count is: 8\n",
      "Loop Over\n",
      "Good bye!\n"
     ]
    }
   ],
   "source": [
    "count = 0\n",
    "while (count < 9):\n",
    "    print ('The count is:', count)\n",
    "    count = count + 1\n",
    "else:\n",
    "    print (\"Loop Over\")\n",
    "\n",
    "print (\"Good bye!\")"
   ]
  },
  {
   "cell_type": "code",
   "execution_count": null,
   "metadata": {},
   "outputs": [],
   "source": [
    "(a,b,c) = input(\"Input the coefficients (a,b,c): \").split(\",\")\n",
    "print(c)"
   ]
  },
  {
   "cell_type": "code",
   "execution_count": null,
   "metadata": {},
   "outputs": [],
   "source": []
  }
 ],
 "metadata": {
  "kernelspec": {
   "display_name": "Python 3 (ipykernel)",
   "language": "python",
   "name": "python3"
  },
  "language_info": {
   "codemirror_mode": {
    "name": "ipython",
    "version": 3
   },
   "file_extension": ".py",
   "mimetype": "text/x-python",
   "name": "python",
   "nbconvert_exporter": "python",
   "pygments_lexer": "ipython3",
   "version": "3.9.7"
  },
  "toc": {
   "base_numbering": 1,
   "nav_menu": {},
   "number_sections": true,
   "sideBar": true,
   "skip_h1_title": false,
   "title_cell": "Table of Contents",
   "title_sidebar": "Contents",
   "toc_cell": false,
   "toc_position": {},
   "toc_section_display": true,
   "toc_window_display": false
  },
  "varInspector": {
   "cols": {
    "lenName": 16,
    "lenType": 16,
    "lenVar": 40
   },
   "kernels_config": {
    "python": {
     "delete_cmd_postfix": "",
     "delete_cmd_prefix": "del ",
     "library": "var_list.py",
     "varRefreshCmd": "print(var_dic_list())"
    },
    "r": {
     "delete_cmd_postfix": ") ",
     "delete_cmd_prefix": "rm(",
     "library": "var_list.r",
     "varRefreshCmd": "cat(var_dic_list()) "
    }
   },
   "types_to_exclude": [
    "module",
    "function",
    "builtin_function_or_method",
    "instance",
    "_Feature"
   ],
   "window_display": false
  }
 },
 "nbformat": 4,
 "nbformat_minor": 2
}
