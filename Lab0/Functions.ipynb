{
 "cells": [
  {
   "cell_type": "markdown",
   "metadata": {},
   "source": [
    "# Defining Functions\n",
    "\n",
    "\n",
    " <ul>\n",
    "  <li> Defining functions use the <I>def</I> command. </li>\n",
    "  <li> Functions can have arguments and return values  </li>\n",
    "  <li> Invoked by the name of the function </li>\n",
    "</ul> \n"
   ]
  },
  {
   "cell_type": "markdown",
   "metadata": {},
   "source": [
    "## Simple Function Definition"
   ]
  },
  {
   "cell_type": "code",
   "execution_count": null,
   "metadata": {},
   "outputs": [],
   "source": [
    "def happy():   # There is a colon after function definition\n",
    "    print(\"Happy Birthday to You!\")  # Function block is indented "
   ]
  },
  {
   "cell_type": "markdown",
   "metadata": {},
   "source": [
    "### Function Call "
   ]
  },
  {
   "cell_type": "code",
   "execution_count": null,
   "metadata": {},
   "outputs": [],
   "source": [
    "happy()"
   ]
  },
  {
   "cell_type": "markdown",
   "metadata": {},
   "source": [
    "## Functions with arguments "
   ]
  },
  {
   "cell_type": "code",
   "execution_count": null,
   "metadata": {},
   "outputs": [],
   "source": [
    "def square(x):\n",
    "    y = x*x\n",
    "    return y\n",
    "\n",
    "def hbd(name):\n",
    "    print (\"Happy Birthday to \", name)\n",
    "    return\n",
    "    "
   ]
  },
  {
   "cell_type": "markdown",
   "metadata": {},
   "source": [
    "### Function call"
   ]
  },
  {
   "cell_type": "code",
   "execution_count": null,
   "metadata": {},
   "outputs": [],
   "source": [
    "z = 3; \n",
    "w = square(z); \n",
    "print(\"3x3 = \", w); \n",
    "\n",
    "print (\" 3 squared twice \", square(square(3)))\n",
    "print (\" In expression\", 2+square(3))\n",
    "\n",
    "\n",
    "hbd(\"John\")\n"
   ]
  },
  {
   "cell_type": "markdown",
   "metadata": {},
   "source": [
    "## Function Parameters"
   ]
  },
  {
   "cell_type": "code",
   "execution_count": null,
   "metadata": {},
   "outputs": [],
   "source": [
    "import numpy as np\n",
    "def addinterest(balance,rate):\n",
    "    balance = balance  + np.multiply(balance , rate)\n",
    "    print(balance)\n",
    "#    print(newbalance)\n",
    "    return balance\n",
    "\n",
    "amount = [100, 200]\n",
    "rate = 0.05 \n",
    "addinterest(amount, rate)\n",
    "\n",
    "\n",
    "#print(amount is addinterest) \n",
    "\n",
    "print(\"Amount = \" , amount );\n",
    "\n",
    "\n",
    "print(id(addinterest))\n",
    "id(amount)"
   ]
  },
  {
   "cell_type": "markdown",
   "metadata": {},
   "source": [
    "## Arrays\n",
    "The function can change the value\n",
    "of the arguments"
   ]
  },
  {
   "cell_type": "code",
   "execution_count": null,
   "metadata": {},
   "outputs": [],
   "source": [
    "def addinterests(bal_list, rate):\n",
    "    for i in range (len(bal_list)):\n",
    "        bal_list[i] += (bal_list[i] * rate)\n",
    "    \n",
    "    print(id(bal_list))\n",
    "    return\n",
    "\n",
    "amounts = [1000, 2000, 3000, 5000]\n",
    "rate = 0.05\n",
    "\n",
    "addinterests(amounts,rate)\n",
    "\n",
    "print(amounts)\n",
    "\n",
    "\n",
    "\n",
    "print(id(amounts))\n",
    "print(id(addinterests))"
   ]
  },
  {
   "cell_type": "code",
   "execution_count": null,
   "metadata": {},
   "outputs": [],
   "source": [
    "def sqrcube(x):\n",
    "    x2 = x*x; \n",
    "    x3 = x2 * x\n",
    "    return (x2,x3)\n",
    "y = sqrcube(3)\n",
    "print(y)"
   ]
  },
  {
   "cell_type": "code",
   "execution_count": 1,
   "metadata": {},
   "outputs": [
    {
     "name": "stdout",
     "output_type": "stream",
     "text": [
      "{'Mon': 1, 'Tue': 2, 'Wed': 3}\n",
      "{'Mon': 1, 'Tue': 2, 'Wed': 3, 'Thurs': 4}\n"
     ]
    }
   ],
   "source": [
    "def dictfun(x):\n",
    "    x[\"Thurs\"]= 4;\n",
    "\n",
    "    \n",
    "x = {\"Mon\":1, \"Tue\":2,\"Wed\":3};\n",
    "print(x)\n",
    "\n",
    "\n",
    "    \n",
    "dictfun(x)\n",
    "print(x)"
   ]
  },
  {
   "cell_type": "code",
   "execution_count": 23,
   "metadata": {},
   "outputs": [
    {
     "name": "stdout",
     "output_type": "stream",
     "text": [
      "5\n",
      "4\n",
      "5\n",
      "<class 'int'>\n"
     ]
    }
   ],
   "source": [
    "def genfn(Y):\n",
    "    print(\"Y in the function\", Y)\n",
    "    print(id(Y))\n",
    "    Y = 5;\n",
    "    print(id(Y))\n",
    "    print(\"Y in the end of function\", Y)\n",
    "    \n",
    "X = 5 ;  \n",
    "X = 6 ;  \n",
    "Y = 4 ; \n",
    "X = 5 ;\n",
    "print (X)\n",
    "print(Y)\n",
    "print(X)\n",
    "print(type(X))\n",
    "\n",
    "for i in range(X):\n",
    "    print()"
   ]
  },
  {
   "cell_type": "code",
   "execution_count": null,
   "metadata": {},
   "outputs": [],
   "source": []
  }
 ],
 "metadata": {
  "kernelspec": {
   "display_name": "Python 3 (ipykernel)",
   "language": "python",
   "name": "python3"
  },
  "language_info": {
   "codemirror_mode": {
    "name": "ipython",
    "version": 3
   },
   "file_extension": ".py",
   "mimetype": "text/x-python",
   "name": "python",
   "nbconvert_exporter": "python",
   "pygments_lexer": "ipython3",
   "version": "3.9.7"
  },
  "toc": {
   "base_numbering": 1,
   "nav_menu": {},
   "number_sections": true,
   "sideBar": true,
   "skip_h1_title": false,
   "title_cell": "Table of Contents",
   "title_sidebar": "Contents",
   "toc_cell": false,
   "toc_position": {},
   "toc_section_display": true,
   "toc_window_display": false
  },
  "varInspector": {
   "cols": {
    "lenName": 16,
    "lenType": 16,
    "lenVar": 40
   },
   "kernels_config": {
    "python": {
     "delete_cmd_postfix": "",
     "delete_cmd_prefix": "del ",
     "library": "var_list.py",
     "varRefreshCmd": "print(var_dic_list())"
    },
    "r": {
     "delete_cmd_postfix": ") ",
     "delete_cmd_prefix": "rm(",
     "library": "var_list.r",
     "varRefreshCmd": "cat(var_dic_list()) "
    }
   },
   "types_to_exclude": [
    "module",
    "function",
    "builtin_function_or_method",
    "instance",
    "_Feature"
   ],
   "window_display": false
  }
 },
 "nbformat": 4,
 "nbformat_minor": 2
}
